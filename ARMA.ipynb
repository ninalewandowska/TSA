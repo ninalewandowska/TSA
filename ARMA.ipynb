{
 "cells": [
  {
   "cell_type": "code",
   "execution_count": null,
   "metadata": {},
   "outputs": [],
   "source": [
    "#ARMA - Residuals at the end of equation\n",
    "#r - random TS variable\n",
    "#r(t) = c + phi(1) * r(t-1)+ theta(1) * Epsilon(t-1) + Epsilon(t)\n",
    "\n",
    "#r(t), r(t-1) - values in the current period and 1 period ago respectively\n",
    "\n",
    "#Epsilon(t), Epsilon(t-1) - error terms for the same two periods\n",
    "#c - baseline constant factor\n",
    "#phi(1) - what part of the VALUE last period is relevant in explaining the current one (the importance of the values)\n",
    "#theta(1) - what part of the ERROR last period is relevant in explaining the current value (the importance of the error)"
   ]
  },
  {
   "cell_type": "code",
   "execution_count": 1,
   "metadata": {},
   "outputs": [],
   "source": [
    "import pandas as pd\n",
    "import numpy as np\n",
    "import matplotlib.pyplot as plt\n",
    "import statsmodels.graphics.tsaplots as sgt\n",
    "import statsmodels.tsa.stattools as sts\n",
    "from statsmodels.tsa.arima_model import ARMA\n",
    "from scipy.stats.distributions import chi2\n",
    "from math import sqrt\n",
    "import seaborn as sns\n",
    "sns.set()"
   ]
  },
  {
   "cell_type": "code",
   "execution_count": 2,
   "metadata": {},
   "outputs": [],
   "source": [
    "raw_csv_data = pd.read_csv(\"/Users/ninalewandowska/Desktop/SGH/python_programming/TSA/Index2018.csv\")\n",
    "df_comp = raw_csv_data.copy()\n",
    "df_comp.date = pd.to_datetime(df_comp.date, dayfirst = True)\n",
    "df_comp.set_index(\"date\", inplace = True)\n",
    "df_comp = df_comp.asfreq('b')\n",
    "df_comp = df_comp.fillna(method = 'ffill')"
   ]
  },
  {
   "cell_type": "code",
   "execution_count": 3,
   "metadata": {},
   "outputs": [],
   "source": [
    "df_comp['market_value'] = df_comp.ftse"
   ]
  },
  {
   "cell_type": "code",
   "execution_count": 4,
   "metadata": {},
   "outputs": [],
   "source": [
    "del df_comp['spx'], df_comp['dax'], df_comp['ftse'], df_comp['nikkei']\n",
    "size = int(len(df_comp)*0.8)\n",
    "df, df_test = df_comp.iloc[:size], df_comp.iloc[size:]"
   ]
  },
  {
   "cell_type": "code",
   "execution_count": 5,
   "metadata": {},
   "outputs": [],
   "source": [
    "def LLR_test(mod_1, mod_2, DF=1):\n",
    "    L1 = mod_1.llf\n",
    "    L2 = mod_2.llf\n",
    "    LR = (2*(L2-L1))\n",
    "    p = chi2.sf(LR, DF).round(3)\n",
    "    return p"
   ]
  },
  {
   "cell_type": "code",
   "execution_count": 6,
   "metadata": {},
   "outputs": [
    {
     "name": "stderr",
     "output_type": "stream",
     "text": [
      "/Users/ninalewandowska/opt/anaconda3/lib/python3.7/site-packages/ipykernel_launcher.py:1: SettingWithCopyWarning: \n",
      "A value is trying to be set on a copy of a slice from a DataFrame.\n",
      "Try using .loc[row_indexer,col_indexer] = value instead\n",
      "\n",
      "See the caveats in the documentation: http://pandas.pydata.org/pandas-docs/stable/user_guide/indexing.html#returning-a-view-versus-a-copy\n",
      "  \"\"\"Entry point for launching an IPython kernel.\n"
     ]
    }
   ],
   "source": [
    "df['returns'] = df.market_value.pct_change(1).mul(100)"
   ]
  },
  {
   "cell_type": "markdown",
   "metadata": {},
   "source": [
    "ARMA(1,1)"
   ]
  },
  {
   "cell_type": "code",
   "execution_count": 7,
   "metadata": {},
   "outputs": [
    {
     "name": "stdout",
     "output_type": "stream",
     "text": [
      "                              ARMA Model Results                              \n",
      "==============================================================================\n",
      "Dep. Variable:                returns   No. Observations:                 5020\n",
      "Model:                     ARMA(1, 1)   Log Likelihood               -7916.500\n",
      "Method:                       css-mle   S.D. of innovations              1.171\n",
      "Date:                Thu, 18 Jun 2020   AIC                          15841.000\n",
      "Time:                        13:02:20   BIC                          15867.085\n",
      "Sample:                    01-10-1994   HQIC                         15850.140\n",
      "                         - 04-05-2013                                         \n",
      "=================================================================================\n",
      "                    coef    std err          z      P>|z|      [0.025      0.975]\n",
      "---------------------------------------------------------------------------------\n",
      "const             0.0189      0.013      1.446      0.148      -0.007       0.045\n",
      "ar.L1.returns     0.7649      0.067     11.349      0.000       0.633       0.897\n",
      "ma.L1.returns    -0.8141      0.061    -13.406      0.000      -0.933      -0.695\n",
      "                                    Roots                                    \n",
      "=============================================================================\n",
      "                  Real          Imaginary           Modulus         Frequency\n",
      "-----------------------------------------------------------------------------\n",
      "AR.1            1.3074           +0.0000j            1.3074            0.0000\n",
      "MA.1            1.2284           +0.0000j            1.2284            0.0000\n",
      "-----------------------------------------------------------------------------\n"
     ]
    }
   ],
   "source": [
    "model_ret_ar_1_ma_1 = ARMA(df.returns[1:], order=(1,1))\n",
    "results_ret_ar_1_ma_1 = model_ret_ar_1_ma_1.fit()\n",
    "print(results_ret_ar_1_ma_1.summary())"
   ]
  },
  {
   "cell_type": "code",
   "execution_count": 8,
   "metadata": {},
   "outputs": [],
   "source": [
    "#only the constant isn't significantly different from zero\n",
    "#AR coeff is positive:\n",
    "    #a positive tendency between past and present values\n",
    "    #returns move in trends of consecutive positive or negative values\n",
    "    #periods of persistent increases or decreases when translated to prices#\n",
    "#MA coeff is negative:\n",
    "    #slightly harder to interpret\n",
    "    #we should be moving away from the past period (t-1) values\n",
    "    #possible explanation: these past error terms ensure we don't get a \"fool in the shower\" type of error\n",
    "    #in other words: we want to prevent our targets from moving, before we've accounted for them"
   ]
  },
  {
   "cell_type": "code",
   "execution_count": 11,
   "metadata": {},
   "outputs": [],
   "source": [
    "model_ret_ar_1 = ARMA(df.returns[1:], order=(1,0))\n",
    "model_ret_ma_1 = ARMA(df.returns[1:], order=(0,1))\n",
    "results_ret_ar_1 = model_ret_ar_1.fit()\n",
    "results_ret_ma_1 = model_ret_ma_1.fit()"
   ]
  },
  {
   "cell_type": "code",
   "execution_count": 12,
   "metadata": {},
   "outputs": [
    {
     "name": "stdout",
     "output_type": "stream",
     "text": [
      "\n",
      "ARMA vs AR  0.0\n",
      "\n",
      "ARMA vs MA  0.0\n"
     ]
    }
   ],
   "source": [
    "print(\"\\nARMA vs AR \", LLR_test(results_ret_ar_1, results_ret_ar_1_ma_1))\n",
    "print(\"\\nARMA vs MA \", LLR_test(results_ret_ma_1, results_ret_ar_1_ma_1))"
   ]
  },
  {
   "cell_type": "code",
   "execution_count": 13,
   "metadata": {},
   "outputs": [],
   "source": [
    "#using past errors in conjuction with past values results in much better estimator\n",
    "#residual = actual - predicted, so predicted = actual - residual\n",
    "#past estimators include both past values and past errors\n",
    "#ARMA models ought to perform well when forecasting values into the future"
   ]
  },
  {
   "cell_type": "markdown",
   "metadata": {},
   "source": [
    "55. Fitting a Higher-Lag ARMA Model for Returns part 1"
   ]
  },
  {
   "cell_type": "code",
   "execution_count": 14,
   "metadata": {},
   "outputs": [],
   "source": [
    "#ARMA model allow AR models to calibrate faster and adjust to some huge shocks\n",
    "#and give MA terms a much better foundation for predictions"
   ]
  },
  {
   "cell_type": "code",
   "execution_count": 20,
   "metadata": {},
   "outputs": [],
   "source": [
    "model_ret_ar_3_ma_3 = ARMA(df.returns[1:], order=(3,3))\n",
    "results_ret_ar_3_ma_3 = model_ret_ar_3_ma_3.fit()"
   ]
  },
  {
   "cell_type": "code",
   "execution_count": 17,
   "metadata": {},
   "outputs": [
    {
     "data": {
      "text/plain": [
       "0.0"
      ]
     },
     "execution_count": 17,
     "metadata": {},
     "output_type": "execute_result"
    }
   ],
   "source": [
    "LLR_test(results_ret_ar_1_ma_1, results_ret_ar_3_ma_3, DF = 4)\n",
    "#DF = 4 since ARMA(3,3) has 6 coef and ARMA(1,1) has 2"
   ]
  },
  {
   "cell_type": "code",
   "execution_count": 19,
   "metadata": {},
   "outputs": [
    {
     "name": "stdout",
     "output_type": "stream",
     "text": [
      "                              ARMA Model Results                              \n",
      "==============================================================================\n",
      "Dep. Variable:                returns   No. Observations:                 5020\n",
      "Model:                     ARMA(3, 3)   Log Likelihood               -7893.515\n",
      "Method:                       css-mle   S.D. of innovations              1.166\n",
      "Date:                Thu, 18 Jun 2020   AIC                          15803.030\n",
      "Time:                        13:39:52   BIC                          15855.199\n",
      "Sample:                    01-10-1994   HQIC                         15821.310\n",
      "                         - 04-05-2013                                         \n",
      "=================================================================================\n",
      "                    coef    std err          z      P>|z|      [0.025      0.975]\n",
      "---------------------------------------------------------------------------------\n",
      "const             0.0189      0.014      1.395      0.163      -0.008       0.045\n",
      "ar.L1.returns    -0.1898      0.104     -1.827      0.068      -0.393       0.014\n",
      "ar.L2.returns    -0.2942      0.087     -3.389      0.001      -0.464      -0.124\n",
      "ar.L3.returns     0.4459      0.138      3.225      0.001       0.175       0.717\n",
      "ma.L1.returns     0.1707      0.099      1.726      0.084      -0.023       0.365\n",
      "ma.L2.returns     0.2277      0.084      2.701      0.007       0.062       0.393\n",
      "ma.L3.returns    -0.5432      0.127     -4.270      0.000      -0.793      -0.294\n",
      "                                    Roots                                    \n",
      "=============================================================================\n",
      "                  Real          Imaginary           Modulus         Frequency\n",
      "-----------------------------------------------------------------------------\n",
      "AR.1           -0.5168           -1.0283j            1.1508           -0.3241\n",
      "AR.2           -0.5168           +1.0283j            1.1508            0.3241\n",
      "AR.3            1.6932           -0.0000j            1.6932           -0.0000\n",
      "MA.1           -0.5286           -0.9835j            1.1166           -0.3285\n",
      "MA.2           -0.5286           +0.9835j            1.1166            0.3285\n",
      "MA.3            1.4764           -0.0000j            1.4764           -0.0000\n",
      "-----------------------------------------------------------------------------\n"
     ]
    }
   ],
   "source": [
    "print(results_ret_ar_3_ma_3.summary())"
   ]
  },
  {
   "cell_type": "markdown",
   "metadata": {},
   "source": [
    "56. Fitting a Higher-Lag ARMA Model for Returns part 2"
   ]
  },
  {
   "cell_type": "code",
   "execution_count": 22,
   "metadata": {},
   "outputs": [
    {
     "name": "stdout",
     "output_type": "stream",
     "text": [
      "                              ARMA Model Results                              \n",
      "==============================================================================\n",
      "Dep. Variable:                returns   No. Observations:                 5020\n",
      "Model:                     ARMA(3, 2)   Log Likelihood               -7895.747\n",
      "Method:                       css-mle   S.D. of innovations              1.166\n",
      "Date:                Thu, 18 Jun 2020   AIC                          15805.495\n",
      "Time:                        14:05:10   BIC                          15851.143\n",
      "Sample:                    01-10-1994   HQIC                         15821.491\n",
      "                         - 04-05-2013                                         \n",
      "=================================================================================\n",
      "                    coef    std err          z      P>|z|      [0.025      0.975]\n",
      "---------------------------------------------------------------------------------\n",
      "const             0.0188      0.015      1.251      0.211      -0.011       0.048\n",
      "ar.L1.returns    -0.6785      0.087     -7.799      0.000      -0.849      -0.508\n",
      "ar.L2.returns    -0.5088      0.139     -3.670      0.000      -0.780      -0.237\n",
      "ar.L3.returns    -0.1141      0.015     -7.655      0.000      -0.143      -0.085\n",
      "ma.L1.returns     0.6568      0.087      7.536      0.000       0.486       0.828\n",
      "ma.L2.returns     0.4474      0.141      3.175      0.002       0.171       0.724\n",
      "                                    Roots                                    \n",
      "=============================================================================\n",
      "                  Real          Imaginary           Modulus         Frequency\n",
      "-----------------------------------------------------------------------------\n",
      "AR.1           -0.4929           -1.5101j            1.5885           -0.3002\n",
      "AR.2           -0.4929           +1.5101j            1.5885            0.3002\n",
      "AR.3           -3.4748           -0.0000j            3.4748           -0.5000\n",
      "MA.1           -0.7340           -1.3025j            1.4951           -0.3317\n",
      "MA.2           -0.7340           +1.3025j            1.4951            0.3317\n",
      "-----------------------------------------------------------------------------\n"
     ]
    }
   ],
   "source": [
    "model_ret_ar_3_ma_2 = ARMA(df.returns[1:], order=(3,2))\n",
    "results_ret_ar_3_ma_2 = model_ret_ar_3_ma_2.fit()\n",
    "print(results_ret_ar_3_ma_2.summary())"
   ]
  },
  {
   "cell_type": "code",
   "execution_count": 23,
   "metadata": {},
   "outputs": [],
   "source": [
    "#constants = 0 should not bother us, cause returns in an efficient market should be close to 0 anyway"
   ]
  },
  {
   "cell_type": "code",
   "execution_count": 24,
   "metadata": {},
   "outputs": [
    {
     "name": "stdout",
     "output_type": "stream",
     "text": [
      "                              ARMA Model Results                              \n",
      "==============================================================================\n",
      "Dep. Variable:                returns   No. Observations:                 5020\n",
      "Model:                     ARMA(2, 3)   Log Likelihood               -7895.587\n",
      "Method:                       css-mle   S.D. of innovations              1.166\n",
      "Date:                Thu, 18 Jun 2020   AIC                          15805.174\n",
      "Time:                        14:08:57   BIC                          15850.823\n",
      "Sample:                    01-10-1994   HQIC                         15821.170\n",
      "                         - 04-05-2013                                         \n",
      "=================================================================================\n",
      "                    coef    std err          z      P>|z|      [0.025      0.975]\n",
      "---------------------------------------------------------------------------------\n",
      "const             0.0189      0.015      1.276      0.202      -0.010       0.048\n",
      "ar.L1.returns    -0.5605      0.090     -6.245      0.000      -0.736      -0.385\n",
      "ar.L2.returns    -0.4187      0.193     -2.172      0.030      -0.797      -0.041\n",
      "ma.L1.returns     0.5378      0.090      6.000      0.000       0.362       0.714\n",
      "ma.L2.returns     0.3540      0.195      1.818      0.069      -0.028       0.736\n",
      "ma.L3.returns    -0.1158      0.016     -7.369      0.000      -0.147      -0.085\n",
      "                                    Roots                                    \n",
      "=============================================================================\n",
      "                  Real          Imaginary           Modulus         Frequency\n",
      "-----------------------------------------------------------------------------\n",
      "AR.1           -0.6694           -1.3930j            1.5455           -0.3213\n",
      "AR.2           -0.6694           +1.3930j            1.5455            0.3213\n",
      "MA.1           -0.7270           -1.1772j            1.3836           -0.3381\n",
      "MA.2           -0.7270           +1.1772j            1.3836            0.3381\n",
      "MA.3            4.5096           -0.0000j            4.5096           -0.0000\n",
      "-----------------------------------------------------------------------------\n"
     ]
    }
   ],
   "source": [
    "model_ret_ar_2_ma_3 = ARMA(df.returns[1:], order=(2,3))\n",
    "results_ret_ar_2_ma_3 = model_ret_ar_2_ma_3.fit()\n",
    "print(results_ret_ar_2_ma_3.summary())"
   ]
  },
  {
   "cell_type": "code",
   "execution_count": 25,
   "metadata": {},
   "outputs": [],
   "source": [
    "#this models performs worse than ARMA(3,2) because MA.L3 coef is not significantly greater from 0"
   ]
  },
  {
   "cell_type": "markdown",
   "metadata": {},
   "source": [
    "57. Fitting a Higher-Lag ARMA Model for Returns part 3"
   ]
  },
  {
   "cell_type": "code",
   "execution_count": 26,
   "metadata": {},
   "outputs": [
    {
     "name": "stdout",
     "output_type": "stream",
     "text": [
      "                              ARMA Model Results                              \n",
      "==============================================================================\n",
      "Dep. Variable:                returns   No. Observations:                 5020\n",
      "Model:                     ARMA(3, 1)   Log Likelihood               -7899.072\n",
      "Method:                       css-mle   S.D. of innovations              1.167\n",
      "Date:                Thu, 18 Jun 2020   AIC                          15810.144\n",
      "Time:                        14:11:56   BIC                          15849.271\n",
      "Sample:                    01-10-1994   HQIC                         15823.855\n",
      "                         - 04-05-2013                                         \n",
      "=================================================================================\n",
      "                    coef    std err          z      P>|z|      [0.025      0.975]\n",
      "---------------------------------------------------------------------------------\n",
      "const             0.0189      0.015      1.298      0.194      -0.010       0.047\n",
      "ar.L1.returns    -0.5077      0.088     -5.769      0.000      -0.680      -0.335\n",
      "ar.L2.returns    -0.0638      0.016     -4.023      0.000      -0.095      -0.033\n",
      "ar.L3.returns    -0.1102      0.014     -7.850      0.000      -0.138      -0.083\n",
      "ma.L1.returns     0.4839      0.088      5.500      0.000       0.311       0.656\n",
      "                                    Roots                                    \n",
      "=============================================================================\n",
      "                  Real          Imaginary           Modulus         Frequency\n",
      "-----------------------------------------------------------------------------\n",
      "AR.1           -1.5095           -0.0000j            1.5095           -0.5000\n",
      "AR.2            0.4653           -2.4076j            2.4521           -0.2196\n",
      "AR.3            0.4653           +2.4076j            2.4521            0.2196\n",
      "MA.1           -2.0668           +0.0000j            2.0668            0.5000\n",
      "-----------------------------------------------------------------------------\n"
     ]
    }
   ],
   "source": [
    "model_ret_ar_3_ma_1 = ARMA(df.returns[1:], order=(3,1))\n",
    "results_ret_ar_3_ma_1 = model_ret_ar_3_ma_1.fit()\n",
    "print(results_ret_ar_3_ma_1.summary())"
   ]
  },
  {
   "cell_type": "code",
   "execution_count": 28,
   "metadata": {},
   "outputs": [
    {
     "data": {
      "text/plain": [
       "0.01"
      ]
     },
     "execution_count": 28,
     "metadata": {},
     "output_type": "execute_result"
    }
   ],
   "source": [
    "LLR_test(results_ret_ar_3_ma_1, results_ret_ar_3_ma_2)"
   ]
  },
  {
   "cell_type": "code",
   "execution_count": 29,
   "metadata": {},
   "outputs": [],
   "source": [
    "#ARMA(3,2)>ARMA(3,1)"
   ]
  },
  {
   "cell_type": "code",
   "execution_count": 30,
   "metadata": {},
   "outputs": [
    {
     "name": "stdout",
     "output_type": "stream",
     "text": [
      "                              ARMA Model Results                              \n",
      "==============================================================================\n",
      "Dep. Variable:                returns   No. Observations:                 5020\n",
      "Model:                     ARMA(2, 2)   Log Likelihood               -7913.223\n",
      "Method:                       css-mle   S.D. of innovations              1.170\n",
      "Date:                Thu, 18 Jun 2020   AIC                          15838.446\n",
      "Time:                        14:13:48   BIC                          15877.573\n",
      "Sample:                    01-10-1994   HQIC                         15852.156\n",
      "                         - 04-05-2013                                         \n",
      "=================================================================================\n",
      "                    coef    std err          z      P>|z|      [0.025      0.975]\n",
      "---------------------------------------------------------------------------------\n",
      "const             0.0189      0.014      1.394      0.163      -0.008       0.045\n",
      "ar.L1.returns     0.7820      0.238      3.284      0.001       0.315       1.249\n",
      "ar.L2.returns    -0.1563      0.177     -0.884      0.377      -0.503       0.190\n",
      "ma.L1.returns    -0.8105      0.239     -3.388      0.001      -1.279      -0.342\n",
      "ma.L2.returns     0.1177      0.187      0.628      0.530      -0.250       0.485\n",
      "                                    Roots                                    \n",
      "=============================================================================\n",
      "                  Real          Imaginary           Modulus         Frequency\n",
      "-----------------------------------------------------------------------------\n",
      "AR.1            2.5017           -0.3738j            2.5295           -0.0236\n",
      "AR.2            2.5017           +0.3738j            2.5295            0.0236\n",
      "MA.1            1.6107           +0.0000j            1.6107            0.0000\n",
      "MA.2            5.2739           +0.0000j            5.2739            0.0000\n",
      "-----------------------------------------------------------------------------\n"
     ]
    }
   ],
   "source": [
    "model_ret_ar_2_ma_2 = ARMA(df.returns[1:], order=(2,2))\n",
    "results_ret_ar_2_ma_2 = model_ret_ar_2_ma_2.fit()\n",
    "print(results_ret_ar_2_ma_2.summary())"
   ]
  },
  {
   "cell_type": "code",
   "execution_count": 31,
   "metadata": {},
   "outputs": [],
   "source": [
    "#ar.L2 and ma.L2 (the highest lags) are not significant, which suggest that simpler models like ARMA(1,2) or\n",
    "#ARMA(2,1) would outperform ARMA(2,2)\n",
    "#so we should avoid the ARMA(2,2) at all costs"
   ]
  },
  {
   "cell_type": "code",
   "execution_count": 32,
   "metadata": {},
   "outputs": [
    {
     "name": "stdout",
     "output_type": "stream",
     "text": [
      "                              ARMA Model Results                              \n",
      "==============================================================================\n",
      "Dep. Variable:                returns   No. Observations:                 5020\n",
      "Model:                     ARMA(1, 3)   Log Likelihood               -7896.838\n",
      "Method:                       css-mle   S.D. of innovations              1.167\n",
      "Date:                Thu, 18 Jun 2020   AIC                          15805.676\n",
      "Time:                        14:16:15   BIC                          15844.803\n",
      "Sample:                    01-10-1994   HQIC                         15819.386\n",
      "                         - 04-05-2013                                         \n",
      "=================================================================================\n",
      "                    coef    std err          z      P>|z|      [0.025      0.975]\n",
      "---------------------------------------------------------------------------------\n",
      "const             0.0189      0.014      1.332      0.183      -0.009       0.047\n",
      "ar.L1.returns    -0.4699      0.096     -4.901      0.000      -0.658      -0.282\n",
      "ma.L1.returns     0.4474      0.095      4.691      0.000       0.260       0.634\n",
      "ma.L2.returns    -0.0637      0.015     -4.113      0.000      -0.094      -0.033\n",
      "ma.L3.returns    -0.1182      0.014     -8.200      0.000      -0.146      -0.090\n",
      "                                    Roots                                    \n",
      "=============================================================================\n",
      "                  Real          Imaginary           Modulus         Frequency\n",
      "-----------------------------------------------------------------------------\n",
      "AR.1           -2.1282           +0.0000j            2.1282            0.5000\n",
      "MA.1           -1.4882           -1.1206j            1.8629           -0.3973\n",
      "MA.2           -1.4882           +1.1206j            1.8629            0.3973\n",
      "MA.3            2.4376           -0.0000j            2.4376           -0.0000\n",
      "-----------------------------------------------------------------------------\n"
     ]
    }
   ],
   "source": [
    "model_ret_ar_1_ma_3 = ARMA(df.returns[1:], order=(1,3))\n",
    "results_ret_ar_1_ma_3 = model_ret_ar_1_ma_3.fit()\n",
    "print(results_ret_ar_1_ma_3.summary())"
   ]
  },
  {
   "cell_type": "code",
   "execution_count": 33,
   "metadata": {},
   "outputs": [],
   "source": [
    "#usually, we'll go on to use the LLR test here to compare it with the ARMA(3,2)\n",
    "#but ARMA(3,2) and ARMA(1,3) aren't \"nested\"\n",
    "#such an issue could never occur with strictly AR or MA models\n",
    "#because any AR(P) is nested in AR(P+1)"
   ]
  },
  {
   "cell_type": "code",
   "execution_count": 34,
   "metadata": {},
   "outputs": [],
   "source": [
    "#2 models of interest ARMA(P1,Q1), ARMA(P2,Q2) is nested only when\n",
    "# 1. P1+Q1 > P2+Q2\n",
    "# 2. P1 >= Q2\n",
    "# 3. Q1 >= Q2"
   ]
  },
  {
   "cell_type": "code",
   "execution_count": 38,
   "metadata": {},
   "outputs": [
    {
     "name": "stdout",
     "output_type": "stream",
     "text": [
      "\n",
      "ARMA(3,2): \tLL =  -7895.747458514511 \tAIC =  15805.494917029022\n",
      "\n",
      "ARMA(1,3): \tLL =  -7896.837893752814 \tAIC =  15805.675787505628\n"
     ]
    }
   ],
   "source": [
    "print(\"\\nARMA(3,2): \\tLL = \", results_ret_ar_3_ma_2.llf, \"\\tAIC = \", results_ret_ar_3_ma_2.aic)\n",
    "print(\"\\nARMA(1,3): \\tLL = \", results_ret_ar_1_ma_3.llf, \"\\tAIC = \", results_ret_ar_1_ma_3.aic)"
   ]
  },
  {
   "cell_type": "code",
   "execution_count": 39,
   "metadata": {},
   "outputs": [],
   "source": [
    "#ARMA(3,2)>ARMA(1,3)\n",
    "#other models between ARMA(1,1) and ARMA(3,3) have not significant coef"
   ]
  },
  {
   "cell_type": "code",
   "execution_count": 40,
   "metadata": {},
   "outputs": [],
   "source": [
    "#ARMA(3,2) is the best because:\n",
    "# 1. it has all significant coef\n",
    "# 2. it outpredicts all less-complex alternatives"
   ]
  },
  {
   "cell_type": "markdown",
   "metadata": {},
   "source": [
    "58. Examining the ARMA model Residuals of Returns"
   ]
  },
  {
   "cell_type": "markdown",
   "metadata": {},
   "source": [
    "Residuals for Returns"
   ]
  },
  {
   "cell_type": "code",
   "execution_count": 41,
   "metadata": {},
   "outputs": [
    {
     "name": "stderr",
     "output_type": "stream",
     "text": [
      "/Users/ninalewandowska/opt/anaconda3/lib/python3.7/site-packages/ipykernel_launcher.py:1: SettingWithCopyWarning: \n",
      "A value is trying to be set on a copy of a slice from a DataFrame.\n",
      "Try using .loc[row_indexer,col_indexer] = value instead\n",
      "\n",
      "See the caveats in the documentation: http://pandas.pydata.org/pandas-docs/stable/user_guide/indexing.html#returning-a-view-versus-a-copy\n",
      "  \"\"\"Entry point for launching an IPython kernel.\n"
     ]
    }
   ],
   "source": [
    "df['res_ret_ar_3_ma_2'] = results_ret_ar_3_ma_2.resid[1:]"
   ]
  },
  {
   "cell_type": "code",
   "execution_count": 42,
   "metadata": {},
   "outputs": [
    {
     "data": {
      "image/png": "[encoded data removed]",
      "text/plain": [
       "<Figure size 1440x360 with 1 Axes>"
      ]
     },
     "metadata": {
      "needs_background": "light"
     },
     "output_type": "display_data"
    }
   ],
   "source": [
    "df.res_ret_ar_3_ma_2.plot(figsize = (20,5))\n",
    "plt.title(\"Residuals of Returns\", size = 24)\n",
    "plt.show()"
   ]
  },
  {
   "cell_type": "code",
   "execution_count": 43,
   "metadata": {},
   "outputs": [
    {
     "data": {
      "image/png": "[encoded data removed]",
      "text/plain": [
       "<Figure size 432x288 with 1 Axes>"
      ]
     },
     "metadata": {
      "needs_background": "light"
     },
     "output_type": "display_data"
    }
   ],
   "source": [
    "sgt.plot_acf(df.res_ret_ar_3_ma_2[2:], zero = False, lags = 40)\n",
    "plt.title(\"ACF of Residuals for Returns\", size=24)\n",
    "plt.show()"
   ]
  },
  {
   "cell_type": "code",
   "execution_count": 44,
   "metadata": {},
   "outputs": [],
   "source": [
    "#we have more significant lags than AR and MA models\n",
    "#accounting for either returns or residuals 5 periods ago, could improve our predictions\n",
    "#so we should opt for ARMA(5,5), ARMA(P,5) or ARMA(5,Q)"
   ]
  },
  {
   "cell_type": "code",
   "execution_count": 45,
   "metadata": {},
   "outputs": [],
   "source": [
    "#ARMA(1,5) and ARMA(5,5) are the best (conclusion from the vid) and now we have to compare their LogLikelihood and\n",
    "#AIC. We can't do LLR test, because they have the same number of DF"
   ]
  },
  {
   "cell_type": "code",
   "execution_count": 46,
   "metadata": {},
   "outputs": [
    {
     "name": "stdout",
     "output_type": "stream",
     "text": [
      "                              ARMA Model Results                              \n",
      "==============================================================================\n",
      "Dep. Variable:                returns   No. Observations:                 5020\n",
      "Model:                     ARMA(5, 1)   Log Likelihood               -7889.311\n",
      "Method:                       css-mle   S.D. of innovations              1.165\n",
      "Date:                Thu, 18 Jun 2020   AIC                          15794.623\n",
      "Time:                        16:22:33   BIC                          15846.792\n",
      "Sample:                    01-10-1994   HQIC                         15812.903\n",
      "                         - 04-05-2013                                         \n",
      "=================================================================================\n",
      "                    coef    std err          z      P>|z|      [0.025      0.975]\n",
      "---------------------------------------------------------------------------------\n",
      "const             0.0189      0.013      1.407      0.159      -0.007       0.045\n",
      "ar.L1.returns     0.3440      0.131      2.624      0.009       0.087       0.601\n",
      "ar.L2.returns    -0.0458      0.015     -3.005      0.003      -0.076      -0.016\n",
      "ar.L3.returns    -0.0652      0.016     -4.010      0.000      -0.097      -0.033\n",
      "ar.L4.returns     0.0741      0.018      4.068      0.000       0.038       0.110\n",
      "ar.L5.returns    -0.0813      0.014     -5.688      0.000      -0.109      -0.053\n",
      "ma.L1.returns    -0.3673      0.131     -2.801      0.005      -0.624      -0.110\n",
      "                                    Roots                                    \n",
      "=============================================================================\n",
      "                  Real          Imaginary           Modulus         Frequency\n",
      "-----------------------------------------------------------------------------\n",
      "AR.1           -1.6158           -0.0000j            1.6158           -0.5000\n",
      "AR.2            1.3793           -0.8613j            1.6261           -0.0888\n",
      "AR.3            1.3793           +0.8613j            1.6261            0.0888\n",
      "AR.4           -0.1156           -1.6929j            1.6968           -0.2608\n",
      "AR.5           -0.1156           +1.6929j            1.6968            0.2608\n",
      "MA.1            2.7223           +0.0000j            2.7223            0.0000\n",
      "-----------------------------------------------------------------------------\n"
     ]
    }
   ],
   "source": [
    "model_ret_ar_5_ma_1 = ARMA(df.returns[1:], order=(5,1))\n",
    "results_ret_ar_5_ma_1 = model_ret_ar_5_ma_1.fit()\n",
    "print(results_ret_ar_5_ma_1.summary())"
   ]
  },
  {
   "cell_type": "code",
   "execution_count": 47,
   "metadata": {},
   "outputs": [
    {
     "name": "stdout",
     "output_type": "stream",
     "text": [
      "                              ARMA Model Results                              \n",
      "==============================================================================\n",
      "Dep. Variable:                returns   No. Observations:                 5020\n",
      "Model:                     ARMA(1, 5)   Log Likelihood               -7890.973\n",
      "Method:                       css-mle   S.D. of innovations              1.165\n",
      "Date:                Thu, 18 Jun 2020   AIC                          15797.947\n",
      "Time:                        16:22:57   BIC                          15850.116\n",
      "Sample:                    01-10-1994   HQIC                         15816.228\n",
      "                         - 04-05-2013                                         \n",
      "=================================================================================\n",
      "                    coef    std err          z      P>|z|      [0.025      0.975]\n",
      "---------------------------------------------------------------------------------\n",
      "const             0.0189      0.013      1.419      0.156      -0.007       0.045\n",
      "ar.L1.returns     0.3285      0.152      2.159      0.031       0.030       0.627\n",
      "ma.L1.returns    -0.3534      0.152     -2.332      0.020      -0.650      -0.056\n",
      "ma.L2.returns    -0.0404      0.015     -2.624      0.009      -0.071      -0.010\n",
      "ma.L3.returns    -0.0679      0.017     -4.022      0.000      -0.101      -0.035\n",
      "ma.L4.returns     0.0742      0.020      3.771      0.000       0.036       0.113\n",
      "ma.L5.returns    -0.0683      0.015     -4.660      0.000      -0.097      -0.040\n",
      "                                    Roots                                    \n",
      "=============================================================================\n",
      "                  Real          Imaginary           Modulus         Frequency\n",
      "-----------------------------------------------------------------------------\n",
      "AR.1            3.0442           +0.0000j            3.0442            0.0000\n",
      "MA.1           -1.1897           -1.1548j            1.6580           -0.3774\n",
      "MA.2           -1.1897           +1.1548j            1.6580            0.3774\n",
      "MA.3            1.5041           -0.0000j            1.5041           -0.0000\n",
      "MA.4            0.9809           -1.6057j            1.8815           -0.1627\n",
      "MA.5            0.9809           +1.6057j            1.8815            0.1627\n",
      "-----------------------------------------------------------------------------\n"
     ]
    }
   ],
   "source": [
    "model_ret_ar_1_ma_5 = ARMA(df.returns[1:], order=(1,5))\n",
    "results_ret_ar_1_ma_5 = model_ret_ar_1_ma_5.fit()\n",
    "print(results_ret_ar_1_ma_5.summary())"
   ]
  },
  {
   "cell_type": "code",
   "execution_count": 49,
   "metadata": {},
   "outputs": [
    {
     "name": "stdout",
     "output_type": "stream",
     "text": [
      "\n",
      "ARMA(5,1): \tLL =  -7889.311282946109 \tAIC =  15794.622565892218\n",
      "\n",
      "ARMA(1,5): \tLL =  -7890.973460209596 \tAIC =  15797.946920419192\n"
     ]
    }
   ],
   "source": [
    "print(\"\\nARMA(5,1): \\tLL = \", results_ret_ar_5_ma_1.llf, \"\\tAIC = \", results_ret_ar_5_ma_1.aic)\n",
    "print(\"\\nARMA(1,5): \\tLL = \", results_ret_ar_1_ma_5.llf, \"\\tAIC = \", results_ret_ar_1_ma_5.aic)"
   ]
  },
  {
   "cell_type": "code",
   "execution_count": 51,
   "metadata": {},
   "outputs": [],
   "source": [
    "#ARMA(5,1)>ARMA(1,5)"
   ]
  },
  {
   "cell_type": "code",
   "execution_count": 53,
   "metadata": {},
   "outputs": [],
   "source": [
    "#now we compare the two to choose the ultimate best"
   ]
  },
  {
   "cell_type": "code",
   "execution_count": 52,
   "metadata": {},
   "outputs": [
    {
     "name": "stdout",
     "output_type": "stream",
     "text": [
      "\n",
      "ARMA(5,1): \tLL =  -7889.311282946109 \tAIC =  15794.622565892218\n",
      "\n",
      "ARMA(3,2): \tLL =  -7895.747458514511 \tAIC =  15805.494917029022\n"
     ]
    }
   ],
   "source": [
    "print(\"\\nARMA(5,1): \\tLL = \", results_ret_ar_5_ma_1.llf, \"\\tAIC = \", results_ret_ar_5_ma_1.aic)\n",
    "print(\"\\nARMA(3,2): \\tLL = \", results_ret_ar_3_ma_2.llf, \"\\tAIC = \", results_ret_ar_3_ma_2.aic)"
   ]
  },
  {
   "cell_type": "code",
   "execution_count": 54,
   "metadata": {},
   "outputs": [],
   "source": [
    "#ARMA(5,1) wins!"
   ]
  },
  {
   "cell_type": "code",
   "execution_count": 55,
   "metadata": {},
   "outputs": [],
   "source": [
    "#AR has PACF, MA has ACF, but ARMA has no such a thing\n",
    "#therefor we can make the mistake of starting off with a model, whose order is lower than the optimal one\n",
    "#this is why examining the residuals is crucial to find the optimal ARMA model"
   ]
  },
  {
   "cell_type": "markdown",
   "metadata": {},
   "source": [
    "Residuals for The New Model"
   ]
  },
  {
   "cell_type": "code",
   "execution_count": 56,
   "metadata": {},
   "outputs": [
    {
     "name": "stderr",
     "output_type": "stream",
     "text": [
      "/Users/ninalewandowska/opt/anaconda3/lib/python3.7/site-packages/ipykernel_launcher.py:1: SettingWithCopyWarning: \n",
      "A value is trying to be set on a copy of a slice from a DataFrame.\n",
      "Try using .loc[row_indexer,col_indexer] = value instead\n",
      "\n",
      "See the caveats in the documentation: http://pandas.pydata.org/pandas-docs/stable/user_guide/indexing.html#returning-a-view-versus-a-copy\n",
      "  \"\"\"Entry point for launching an IPython kernel.\n"
     ]
    }
   ],
   "source": [
    "df['res_ret_ar_5_ma_1'] = results_ret_ar_5_ma_1.resid"
   ]
  },
  {
   "cell_type": "code",
   "execution_count": 57,
   "metadata": {},
   "outputs": [
    {
     "data": {
      "image/png": "[encoded data removed]",
      "text/plain": [
       "<Figure size 432x288 with 1 Axes>"
      ]
     },
     "metadata": {
      "needs_background": "light"
     },
     "output_type": "display_data"
    }
   ],
   "source": [
    "sgt.plot_acf(df.res_ret_ar_5_ma_1[2:], zero = False, lags = 40)\n",
    "plt.title(\"ACF of Residuals for Returns\", size=24)\n",
    "plt.show()"
   ]
  },
  {
   "cell_type": "code",
   "execution_count": 59,
   "metadata": {},
   "outputs": [],
   "source": [
    "#lags up to 18th are not significant\n",
    "#if we want our model to resemble the data set more closely we could include even more lags to our model\n",
    "#however, this will predespose the model to failure when facing unfamiliar data"
   ]
  },
  {
   "cell_type": "code",
   "execution_count": null,
   "metadata": {},
   "outputs": [],
   "source": []
  }
 ],
 "metadata": {
  "kernelspec": {
   "display_name": "Python 3",
   "language": "python",
   "name": "python3"
  },
  "language_info": {
   "codemirror_mode": {
    "name": "ipython",
    "version": 3
   },
   "file_extension": ".py",
   "mimetype": "text/x-python",
   "name": "python",
   "nbconvert_exporter": "python",
   "pygments_lexer": "ipython3",
   "version": "3.7.4"
  }
 },
 "nbformat": 4,
 "nbformat_minor": 2
}
