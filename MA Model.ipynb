{
 "cells": [
  {
   "cell_type": "markdown",
   "metadata": {},
   "source": [
    "46. The Moving Average (MA) Model"
   ]
  },
  {
   "cell_type": "code",
   "execution_count": 1,
   "metadata": {},
   "outputs": [],
   "source": [
    "# rt = c + theta1 * Epsilon t-1 + Epsilon t\n",
    "# r - some TS variable\n",
    "# rt - values of \"r\" in the current period\n",
    "# theta1 - a numeric coefficient for the value associated with the 1st lag\n",
    "# Epsilon t-1 - residuals for the past period\n",
    "# Epsilon t - residuals for the current period"
   ]
  },
  {
   "cell_type": "code",
   "execution_count": 2,
   "metadata": {},
   "outputs": [],
   "source": [
    "# Epsilon:\n",
    "\n",
    "# we start at the beginning of the data set (Actual rt)\n",
    "# and try to predict each value (Predicted rt)\n",
    "# dependig on how far off we are each time, we get a residual (Epsilon t)\n",
    "# therefor we generate this residuals as we go through the set\n",
    "# and create the Epsilon variable as we move through time"
   ]
  },
  {
   "cell_type": "code",
   "execution_count": 3,
   "metadata": {},
   "outputs": [],
   "source": [
    "# MA(1) is likely to AR(infinite) with some restrictions\n",
    "\n",
    "# the only difference is that the AR model uses the value of the variable, while the MA model relies on the Residual"
   ]
  },
  {
   "cell_type": "code",
   "execution_count": 4,
   "metadata": {},
   "outputs": [],
   "source": [
    "# to determine the maximum number of laggs we are willing to include in our MA models we rely on the ACF only \n",
    "# reason: the MA models aren't based on past period returns, therefor\n",
    "# determining which lagged values have a significant direct effect on the present-day ones is not relevant"
   ]
  },
  {
   "cell_type": "markdown",
   "metadata": {},
   "source": [
    "Importing the relevant Packages"
   ]
  },
  {
   "cell_type": "code",
   "execution_count": 3,
   "metadata": {},
   "outputs": [],
   "source": [
    "import pandas as pd\n",
    "import numpy as np\n",
    "import matplotlib.pyplot as plt\n",
    "import statsmodels.graphics.tsaplots as sgt\n",
    "import statsmodels.tsa.stattools as sts\n",
    "from statsmodels.tsa.arima_model import ARMA\n",
    "from scipy.stats.distributions import chi2\n",
    "from math import sqrt\n",
    "import seaborn as sns\n",
    "sns.set()"
   ]
  },
  {
   "cell_type": "markdown",
   "metadata": {},
   "source": [
    "Importing the Data and Pre-Processing"
   ]
  },
  {
   "cell_type": "code",
   "execution_count": 4,
   "metadata": {},
   "outputs": [],
   "source": [
    "raw_csv_data = pd.read_csv(\"/Users/ninalewandowska/Desktop/SGH/python_programming/TSA/Index2018.csv\")\n",
    "df_comp = raw_csv_data.copy()\n",
    "df_comp.date = pd.to_datetime(df_comp.date, dayfirst = True)\n",
    "df_comp.set_index(\"date\", inplace = True)\n",
    "df_comp = df_comp.asfreq('b')\n",
    "df_comp = df_comp.fillna(method = 'ffill')"
   ]
  },
  {
   "cell_type": "code",
   "execution_count": 5,
   "metadata": {},
   "outputs": [],
   "source": [
    "df_comp['market_value'] = df_comp.ftse"
   ]
  },
  {
   "cell_type": "code",
   "execution_count": 6,
   "metadata": {},
   "outputs": [],
   "source": [
    "del df_comp['spx'], df_comp['dax'], df_comp['ftse'], df_comp['nikkei']\n",
    "size = int(len(df_comp)*0.8)\n",
    "df, df_test = df_comp.iloc[:size], df_comp.iloc[size:]"
   ]
  },
  {
   "cell_type": "markdown",
   "metadata": {},
   "source": [
    "LLR test"
   ]
  },
  {
   "cell_type": "code",
   "execution_count": 50,
   "metadata": {},
   "outputs": [],
   "source": [
    "def LLR_test(mod_1, mod_2, DF=1):\n",
    "    L1 = mod_1.llf\n",
    "    L2 = mod_2.llf\n",
    "    LR = (2*(L2-L1))\n",
    "    p = chi2.sf(LR, DF).round(3)\n",
    "    return p"
   ]
  },
  {
   "cell_type": "markdown",
   "metadata": {},
   "source": [
    "Creating returns"
   ]
  },
  {
   "cell_type": "code",
   "execution_count": 51,
   "metadata": {},
   "outputs": [
    {
     "name": "stderr",
     "output_type": "stream",
     "text": [
      "/Users/ninalewandowska/opt/anaconda3/lib/python3.7/site-packages/ipykernel_launcher.py:1: SettingWithCopyWarning: \n",
      "A value is trying to be set on a copy of a slice from a DataFrame.\n",
      "Try using .loc[row_indexer,col_indexer] = value instead\n",
      "\n",
      "See the caveats in the documentation: http://pandas.pydata.org/pandas-docs/stable/user_guide/indexing.html#returning-a-view-versus-a-copy\n",
      "  \"\"\"Entry point for launching an IPython kernel.\n"
     ]
    }
   ],
   "source": [
    "df['returns'] = df.market_value.pct_change(1).mul(100)"
   ]
  },
  {
   "cell_type": "markdown",
   "metadata": {},
   "source": [
    "ACF for Returns"
   ]
  },
  {
   "cell_type": "code",
   "execution_count": 52,
   "metadata": {},
   "outputs": [
    {
     "data": {
      "image/png": "[encoded data removed]",
      "text/plain": [
       "<Figure size 432x288 with 1 Axes>"
      ]
     },
     "metadata": {
      "needs_background": "light"
     },
     "output_type": "display_data"
    }
   ],
   "source": [
    "sgt.plot_acf(df.returns[1:], lags = 40, zero = False)\n",
    "plt.title(\"ACF FTSE returns\", size = 24)\n",
    "plt.show()"
   ]
  },
  {
   "cell_type": "markdown",
   "metadata": {},
   "source": [
    "47. Fitting an MA(1) Model for Returns"
   ]
  },
  {
   "cell_type": "markdown",
   "metadata": {},
   "source": [
    "MA(1) for Returns"
   ]
  },
  {
   "cell_type": "code",
   "execution_count": 53,
   "metadata": {},
   "outputs": [
    {
     "name": "stdout",
     "output_type": "stream",
     "text": [
      "                              ARMA Model Results                              \n",
      "==============================================================================\n",
      "Dep. Variable:                returns   No. Observations:                 5020\n",
      "Model:                     ARMA(0, 1)   Log Likelihood               -7929.595\n",
      "Method:                       css-mle   S.D. of innovations              1.174\n",
      "Date:                Wed, 17 Jun 2020   AIC                          15865.190\n",
      "Time:                        16:54:14   BIC                          15884.754\n",
      "Sample:                    01-10-1994   HQIC                         15872.045\n",
      "                         - 04-05-2013                                         \n",
      "=================================================================================\n",
      "                    coef    std err          z      P>|z|      [0.025      0.975]\n",
      "---------------------------------------------------------------------------------\n",
      "const             0.0188      0.016      1.162      0.245      -0.013       0.050\n",
      "ma.L1.returns    -0.0257      0.015     -1.720      0.086      -0.055       0.004\n",
      "                                    Roots                                    \n",
      "=============================================================================\n",
      "                  Real          Imaginary           Modulus         Frequency\n",
      "-----------------------------------------------------------------------------\n",
      "MA.1           38.8547           +0.0000j           38.8547            0.0000\n",
      "-----------------------------------------------------------------------------\n"
     ]
    }
   ],
   "source": [
    "model_ret_ma_1 = ARMA(df.returns[1:], order=(0,1))\n",
    "results_ret_ma_1 = model_ret_ma_1.fit()\n",
    "print(results_ret_ma_1.summary())"
   ]
  },
  {
   "cell_type": "code",
   "execution_count": 19,
   "metadata": {},
   "outputs": [],
   "source": [
    "# order = (P,Q) - P = AR components, Q = MA components"
   ]
  },
  {
   "cell_type": "code",
   "execution_count": 20,
   "metadata": {},
   "outputs": [],
   "source": [
    "# p-value > 0,05 which suggests insignificance, however, from the ACF plot we can see that other coefficients fall out\n",
    "# of the blue area, which suggest significance"
   ]
  },
  {
   "cell_type": "markdown",
   "metadata": {},
   "source": [
    "48. Fitting Higher-Lag MA Models for Returns"
   ]
  },
  {
   "cell_type": "code",
   "execution_count": 54,
   "metadata": {},
   "outputs": [
    {
     "name": "stdout",
     "output_type": "stream",
     "text": [
      "                              ARMA Model Results                              \n",
      "==============================================================================\n",
      "Dep. Variable:                returns   No. Observations:                 5020\n",
      "Model:                     ARMA(0, 2)   Log Likelihood               -7922.864\n",
      "Method:                       css-mle   S.D. of innovations              1.173\n",
      "Date:                Wed, 17 Jun 2020   AIC                          15853.728\n",
      "Time:                        16:54:16   BIC                          15879.812\n",
      "Sample:                    01-10-1994   HQIC                         15862.868\n",
      "                         - 04-05-2013                                         \n",
      "=================================================================================\n",
      "                    coef    std err          z      P>|z|      [0.025      0.975]\n",
      "---------------------------------------------------------------------------------\n",
      "const             0.0188      0.015      1.239      0.215      -0.011       0.049\n",
      "ma.L1.returns    -0.0327      0.014     -2.297      0.022      -0.061      -0.005\n",
      "ma.L2.returns    -0.0502      0.014     -3.669      0.000      -0.077      -0.023\n",
      "                                    Roots                                    \n",
      "=============================================================================\n",
      "                  Real          Imaginary           Modulus         Frequency\n",
      "-----------------------------------------------------------------------------\n",
      "MA.1            4.1499           +0.0000j            4.1499            0.0000\n",
      "MA.2           -4.8004           +0.0000j            4.8004            0.5000\n",
      "-----------------------------------------------------------------------------\n"
     ]
    }
   ],
   "source": [
    "model_ret_ma_2 = ARMA(df.returns[1:], order=(0,2))\n",
    "results_ret_ma_2 = model_ret_ma_2.fit()\n",
    "print(results_ret_ma_2.summary())"
   ]
  },
  {
   "cell_type": "code",
   "execution_count": null,
   "metadata": {},
   "outputs": [],
   "source": [
    "#p-value for the error term from two periods ago is significant (which matches our expectation from the ACF plots)\n",
    "#p-value for the first lag is also significant (contrary to the previous model) which is exactly what we are aming for\n",
    "#when fitting the more complex model\n",
    "#we can say that MA(2)>MA(1) though we should check LLR which in this case doesn't work"
   ]
  },
  {
   "cell_type": "code",
   "execution_count": 103,
   "metadata": {},
   "outputs": [
    {
     "data": {
      "text/plain": [
       "0.0"
      ]
     },
     "execution_count": 103,
     "metadata": {},
     "output_type": "execute_result"
    }
   ],
   "source": [
    "LLR_test(results_ret_ma_1, results_ret_ma_2)"
   ]
  },
  {
   "cell_type": "markdown",
   "metadata": {},
   "source": [
    "MA(3) Model"
   ]
  },
  {
   "cell_type": "code",
   "execution_count": 48,
   "metadata": {},
   "outputs": [
    {
     "name": "stdout",
     "output_type": "stream",
     "text": [
      "                              ARMA Model Results                              \n",
      "==============================================================================\n",
      "Dep. Variable:                returns   No. Observations:                 5020\n",
      "Model:                     ARMA(0, 3)   Log Likelihood               -7904.317\n",
      "Method:                       css-mle   S.D. of innovations              1.168\n",
      "Date:                Wed, 17 Jun 2020   AIC                          15818.634\n",
      "Time:                        16:53:31   BIC                          15851.240\n",
      "Sample:                    01-10-1994   HQIC                         15830.060\n",
      "                         - 04-05-2013                                         \n",
      "=================================================================================\n",
      "                    coef    std err          z      P>|z|      [0.025      0.975]\n",
      "---------------------------------------------------------------------------------\n",
      "const             0.0189      0.014      1.376      0.169      -0.008       0.046\n",
      "ma.L1.returns    -0.0203      0.014     -1.423      0.155      -0.048       0.008\n",
      "ma.L2.returns    -0.0556      0.013     -4.134      0.000      -0.082      -0.029\n",
      "ma.L3.returns    -0.0904      0.015     -6.121      0.000      -0.119      -0.061\n",
      "                                    Roots                                    \n",
      "=============================================================================\n",
      "                  Real          Imaginary           Modulus         Frequency\n",
      "-----------------------------------------------------------------------------\n",
      "MA.1            2.0105           -0.0000j            2.0105           -0.0000\n",
      "MA.2           -1.3129           -1.9441j            2.3459           -0.3445\n",
      "MA.3           -1.3129           +1.9441j            2.3459            0.3445\n",
      "-----------------------------------------------------------------------------\n"
     ]
    }
   ],
   "source": [
    "model_ret_ma_3 = ARMA(df.returns[1:], order=(0,3))\n",
    "results_ret_ma_3 = model_ret_ma_3.fit()\n",
    "print(results_ret_ma_3.summary())"
   ]
  },
  {
   "cell_type": "code",
   "execution_count": 104,
   "metadata": {},
   "outputs": [
    {
     "data": {
      "text/plain": [
       "0.0"
      ]
     },
     "execution_count": 104,
     "metadata": {},
     "output_type": "execute_result"
    }
   ],
   "source": [
    "LLR_test(results_ret_ma_2, results_ret_ma_3)"
   ]
  },
  {
   "cell_type": "code",
   "execution_count": 60,
   "metadata": {},
   "outputs": [],
   "source": [
    "# finally MA(8)>MA(7) although MA(7) was not better than MA(6), MA(8) was better than MA(7) (see ACF plot)\n",
    "#MA(8) is the best"
   ]
  },
  {
   "cell_type": "markdown",
   "metadata": {},
   "source": [
    "49. Examining the MA Model Residuals for Returns"
   ]
  },
  {
   "cell_type": "markdown",
   "metadata": {},
   "source": [
    "Residuals for Returns"
   ]
  },
  {
   "cell_type": "code",
   "execution_count": 61,
   "metadata": {},
   "outputs": [
    {
     "name": "stdout",
     "output_type": "stream",
     "text": [
      "                              ARMA Model Results                              \n",
      "==============================================================================\n",
      "Dep. Variable:                returns   No. Observations:                 5020\n",
      "Model:                     ARMA(0, 8)   Log Likelihood               -7885.603\n",
      "Method:                       css-mle   S.D. of innovations              1.164\n",
      "Date:                Wed, 17 Jun 2020   AIC                          15791.205\n",
      "Time:                        16:58:49   BIC                          15856.417\n",
      "Sample:                    01-10-1994   HQIC                         15814.056\n",
      "                         - 04-05-2013                                         \n",
      "=================================================================================\n",
      "                    coef    std err          z      P>|z|      [0.025      0.975]\n",
      "---------------------------------------------------------------------------------\n",
      "const             0.0189      0.014      1.364      0.173      -0.008       0.046\n",
      "ma.L1.returns    -0.0238      0.014     -1.688      0.091      -0.051       0.004\n",
      "ma.L2.returns    -0.0495      0.014     -3.514      0.000      -0.077      -0.022\n",
      "ma.L3.returns    -0.0847      0.014     -5.993      0.000      -0.112      -0.057\n",
      "ma.L4.returns     0.0488      0.014      3.440      0.001       0.021       0.077\n",
      "ma.L5.returns    -0.0518      0.014     -3.634      0.000      -0.080      -0.024\n",
      "ma.L6.returns    -0.0402      0.014     -2.787      0.005      -0.068      -0.012\n",
      "ma.L7.returns     0.0084      0.014      0.587      0.557      -0.020       0.036\n",
      "ma.L8.returns     0.0366      0.014      2.626      0.009       0.009       0.064\n",
      "                                    Roots                                    \n",
      "=============================================================================\n",
      "                  Real          Imaginary           Modulus         Frequency\n",
      "-----------------------------------------------------------------------------\n",
      "MA.1            1.4716           -0.4282j            1.5326           -0.0451\n",
      "MA.2            1.4716           +0.4282j            1.5326            0.0451\n",
      "MA.3            0.5944           -1.3169j            1.4448           -0.1825\n",
      "MA.4            0.5944           +1.3169j            1.4448            0.1825\n",
      "MA.5           -0.7318           -1.2736j            1.4689           -0.3330\n",
      "MA.6           -0.7318           +1.2736j            1.4689            0.3330\n",
      "MA.7           -1.4485           -0.6983j            1.6081           -0.4285\n",
      "MA.8           -1.4485           +0.6983j            1.6081            0.4285\n",
      "-----------------------------------------------------------------------------\n"
     ]
    }
   ],
   "source": [
    "model_ret_ma_8 = ARMA(df.returns[1:], order=(0,8))\n",
    "results_ret_ma_8 = model_ret_ma_8.fit()\n",
    "print(results_ret_ma_8.summary())"
   ]
  },
  {
   "cell_type": "code",
   "execution_count": 62,
   "metadata": {},
   "outputs": [
    {
     "name": "stderr",
     "output_type": "stream",
     "text": [
      "/Users/ninalewandowska/opt/anaconda3/lib/python3.7/site-packages/ipykernel_launcher.py:1: SettingWithCopyWarning: \n",
      "A value is trying to be set on a copy of a slice from a DataFrame.\n",
      "Try using .loc[row_indexer,col_indexer] = value instead\n",
      "\n",
      "See the caveats in the documentation: http://pandas.pydata.org/pandas-docs/stable/user_guide/indexing.html#returning-a-view-versus-a-copy\n",
      "  \"\"\"Entry point for launching an IPython kernel.\n"
     ]
    }
   ],
   "source": [
    "df['res_ret_ma_8'] = results_ret_ma_8.resid[1:]"
   ]
  },
  {
   "cell_type": "code",
   "execution_count": 65,
   "metadata": {},
   "outputs": [
    {
     "name": "stdout",
     "output_type": "stream",
     "text": [
      "The meand of the residuals is -0.0\n",
      "The variance of the residuals is 1.356\n"
     ]
    }
   ],
   "source": [
    "print(\"The meand of the residuals is \" + str(round(df.res_ret_ma_8.mean(),3)) + \"\\nThe variance of the residuals is \" + str(round(df.res_ret_ma_8.var(),3)))"
   ]
  },
  {
   "cell_type": "code",
   "execution_count": 68,
   "metadata": {},
   "outputs": [
    {
     "name": "stdout",
     "output_type": "stream",
     "text": [
      "The standard deviation od the residuals is 1.164\n"
     ]
    }
   ],
   "source": [
    "print(\"The standard deviation od the residuals is \" + str(round(sqrt(df.res_ret_ma_8.var()),3)))"
   ]
  },
  {
   "cell_type": "code",
   "execution_count": 69,
   "metadata": {},
   "outputs": [
    {
     "data": {
      "image/png": "[encoded data removed]",
      "text/plain": [
       "<Figure size 1440x360 with 1 Axes>"
      ]
     },
     "metadata": {
      "needs_background": "light"
     },
     "output_type": "display_data"
    }
   ],
   "source": [
    "df.res_ret_ma_8[1:].plot(figsize = (20,5))\n",
    "plt.title(\"Residuals of Returns\", size = 24)\n",
    "plt.show()"
   ]
  },
  {
   "cell_type": "code",
   "execution_count": 70,
   "metadata": {},
   "outputs": [],
   "source": [
    "#testing if residuals follow white noise pattern (which we want)\n",
    "#stationarity"
   ]
  },
  {
   "cell_type": "code",
   "execution_count": 71,
   "metadata": {},
   "outputs": [
    {
     "data": {
      "text/plain": [
       "(-70.83581608304624,\n",
       " 0.0,\n",
       " 0,\n",
       " 5018,\n",
       " {'1%': -3.4316538358533277,\n",
       "  '5%': -2.8621161549128313,\n",
       "  '10%': -2.567076687880585},\n",
       " 15684.052185203767)"
      ]
     },
     "execution_count": 71,
     "metadata": {},
     "output_type": "execute_result"
    }
   ],
   "source": [
    "sts.adfuller(df.res_ret_ma_8[2:])"
   ]
  },
  {
   "cell_type": "code",
   "execution_count": 72,
   "metadata": {},
   "outputs": [],
   "source": [
    "#(second line) p-value is 0, so the set is stationary, but stationarity is not the same as wihite noise, so we\n",
    "#have to examine the ACF of the residuals"
   ]
  },
  {
   "cell_type": "code",
   "execution_count": 74,
   "metadata": {},
   "outputs": [
    {
     "data": {
      "image/png": "[encoded data removed]",
      "text/plain": [
       "<Figure size 432x288 with 1 Axes>"
      ]
     },
     "metadata": {
      "needs_background": "light"
     },
     "output_type": "display_data"
    }
   ],
   "source": [
    "sgt.plot_acf(df.res_ret_ma_8[2:], zero = False, lags = 40)\n",
    "plt.title(\"ACF of Residuals for Returns\", size=24)\n",
    "plt.show()"
   ]
  },
  {
   "cell_type": "markdown",
   "metadata": {},
   "source": [
    "Normalized returns"
   ]
  },
  {
   "cell_type": "code",
   "execution_count": 82,
   "metadata": {},
   "outputs": [
    {
     "name": "stderr",
     "output_type": "stream",
     "text": [
      "/Users/ninalewandowska/opt/anaconda3/lib/python3.7/site-packages/ipykernel_launcher.py:2: SettingWithCopyWarning: \n",
      "A value is trying to be set on a copy of a slice from a DataFrame.\n",
      "Try using .loc[row_indexer,col_indexer] = value instead\n",
      "\n",
      "See the caveats in the documentation: http://pandas.pydata.org/pandas-docs/stable/user_guide/indexing.html#returning-a-view-versus-a-copy\n",
      "  \n"
     ]
    }
   ],
   "source": [
    "bench_ret = df.returns.iloc[1]\n",
    "df['norm_ret'] = df.returns.div(bench_ret).mul(100)"
   ]
  },
  {
   "cell_type": "code",
   "execution_count": 79,
   "metadata": {},
   "outputs": [
    {
     "data": {
      "text/plain": [
       "date\n",
       "1994-01-07         NaN\n",
       "1994-01-10   -0.156704\n",
       "1994-01-11   -0.779229\n",
       "1994-01-12   -1.222988\n",
       "1994-01-13   -0.356166\n",
       "                ...   \n",
       "2013-04-01    0.000000\n",
       "2013-04-02    1.230867\n",
       "2013-04-03   -1.084327\n",
       "2013-04-04   -1.186397\n",
       "2013-04-05   -1.487049\n",
       "Freq: B, Name: returns, Length: 5021, dtype: float64"
      ]
     },
     "execution_count": 79,
     "metadata": {},
     "output_type": "execute_result"
    }
   ],
   "source": [
    "df.returns"
   ]
  },
  {
   "cell_type": "code",
   "execution_count": 81,
   "metadata": {},
   "outputs": [
    {
     "data": {
      "text/plain": [
       "-0.1567043337454055"
      ]
     },
     "execution_count": 81,
     "metadata": {},
     "output_type": "execute_result"
    }
   ],
   "source": [
    "bench_ret"
   ]
  },
  {
   "cell_type": "code",
   "execution_count": 84,
   "metadata": {},
   "outputs": [
    {
     "data": {
      "image/png": "[encoded data removed]",
      "text/plain": [
       "<Figure size 432x288 with 1 Axes>"
      ]
     },
     "metadata": {
      "needs_background": "light"
     },
     "output_type": "display_data"
    }
   ],
   "source": [
    "sgt.plot_acf(df.norm_ret[1:], zero = False, lags = 40)\n",
    "plt.title(\"ACF of Normalized Returns\", size=24)\n",
    "plt.show()"
   ]
  },
  {
   "cell_type": "code",
   "execution_count": 85,
   "metadata": {},
   "outputs": [],
   "source": [
    "#similar to ACF for Returns"
   ]
  },
  {
   "cell_type": "code",
   "execution_count": 86,
   "metadata": {},
   "outputs": [
    {
     "data": {
      "text/html": [
       "<table class=\"simpletable\">\n",
       "<caption>ARMA Model Results</caption>\n",
       "<tr>\n",
       "  <th>Dep. Variable:</th>     <td>norm_ret</td>     <th>  No. Observations:  </th>    <td>5020</td>   \n",
       "</tr>\n",
       "<tr>\n",
       "  <th>Model:</th>            <td>ARMA(0, 8)</td>    <th>  Log Likelihood     </th> <td>-40307.597</td>\n",
       "</tr>\n",
       "<tr>\n",
       "  <th>Method:</th>             <td>css-mle</td>     <th>  S.D. of innovations</th>   <td>742.822</td> \n",
       "</tr>\n",
       "<tr>\n",
       "  <th>Date:</th>          <td>Wed, 17 Jun 2020</td> <th>  AIC                </th>  <td>80635.194</td>\n",
       "</tr>\n",
       "<tr>\n",
       "  <th>Time:</th>              <td>18:41:27</td>     <th>  BIC                </th>  <td>80700.406</td>\n",
       "</tr>\n",
       "<tr>\n",
       "  <th>Sample:</th>           <td>01-10-1994</td>    <th>  HQIC               </th>  <td>80658.045</td>\n",
       "</tr>\n",
       "<tr>\n",
       "  <th></th>                 <td>- 04-05-2013</td>   <th>                     </th>      <td> </td>    \n",
       "</tr>\n",
       "</table>\n",
       "<table class=\"simpletable\">\n",
       "<tr>\n",
       "         <td></td>           <th>coef</th>     <th>std err</th>      <th>z</th>      <th>P>|z|</th>  <th>[0.025</th>    <th>0.975]</th>  \n",
       "</tr>\n",
       "<tr>\n",
       "  <th>const</th>          <td>  -11.9759</td> <td>    8.846</td> <td>   -1.354</td> <td> 0.176</td> <td>  -29.314</td> <td>    5.362</td>\n",
       "</tr>\n",
       "<tr>\n",
       "  <th>ma.L1.norm_ret</th> <td>   -0.0238</td> <td>    0.014</td> <td>   -1.689</td> <td> 0.091</td> <td>   -0.051</td> <td>    0.004</td>\n",
       "</tr>\n",
       "<tr>\n",
       "  <th>ma.L2.norm_ret</th> <td>   -0.0495</td> <td>    0.014</td> <td>   -3.513</td> <td> 0.000</td> <td>   -0.077</td> <td>   -0.022</td>\n",
       "</tr>\n",
       "<tr>\n",
       "  <th>ma.L3.norm_ret</th> <td>   -0.0847</td> <td>    0.014</td> <td>   -5.992</td> <td> 0.000</td> <td>   -0.112</td> <td>   -0.057</td>\n",
       "</tr>\n",
       "<tr>\n",
       "  <th>ma.L4.norm_ret</th> <td>    0.0488</td> <td>    0.014</td> <td>    3.440</td> <td> 0.001</td> <td>    0.021</td> <td>    0.077</td>\n",
       "</tr>\n",
       "<tr>\n",
       "  <th>ma.L5.norm_ret</th> <td>   -0.0518</td> <td>    0.014</td> <td>   -3.634</td> <td> 0.000</td> <td>   -0.080</td> <td>   -0.024</td>\n",
       "</tr>\n",
       "<tr>\n",
       "  <th>ma.L6.norm_ret</th> <td>   -0.0402</td> <td>    0.014</td> <td>   -2.786</td> <td> 0.005</td> <td>   -0.068</td> <td>   -0.012</td>\n",
       "</tr>\n",
       "<tr>\n",
       "  <th>ma.L7.norm_ret</th> <td>    0.0083</td> <td>    0.014</td> <td>    0.586</td> <td> 0.558</td> <td>   -0.020</td> <td>    0.036</td>\n",
       "</tr>\n",
       "<tr>\n",
       "  <th>ma.L8.norm_ret</th> <td>    0.0366</td> <td>    0.014</td> <td>    2.627</td> <td> 0.009</td> <td>    0.009</td> <td>    0.064</td>\n",
       "</tr>\n",
       "</table>\n",
       "<table class=\"simpletable\">\n",
       "<caption>Roots</caption>\n",
       "<tr>\n",
       "    <td></td>   <th>            Real</th>  <th>         Imaginary</th> <th>         Modulus</th>  <th>        Frequency</th>\n",
       "</tr>\n",
       "<tr>\n",
       "  <th>MA.1</th> <td>           1.4716</td> <td>          -0.4282j</td> <td>           1.5326</td> <td>          -0.0451</td>\n",
       "</tr>\n",
       "<tr>\n",
       "  <th>MA.2</th> <td>           1.4716</td> <td>          +0.4282j</td> <td>           1.5326</td> <td>           0.0451</td>\n",
       "</tr>\n",
       "<tr>\n",
       "  <th>MA.3</th> <td>           0.5944</td> <td>          -1.3169j</td> <td>           1.4448</td> <td>          -0.1825</td>\n",
       "</tr>\n",
       "<tr>\n",
       "  <th>MA.4</th> <td>           0.5944</td> <td>          +1.3169j</td> <td>           1.4448</td> <td>           0.1825</td>\n",
       "</tr>\n",
       "<tr>\n",
       "  <th>MA.5</th> <td>          -0.7317</td> <td>          -1.2737j</td> <td>           1.4689</td> <td>          -0.3330</td>\n",
       "</tr>\n",
       "<tr>\n",
       "  <th>MA.6</th> <td>          -0.7317</td> <td>          +1.2737j</td> <td>           1.4689</td> <td>           0.3330</td>\n",
       "</tr>\n",
       "<tr>\n",
       "  <th>MA.7</th> <td>          -1.4484</td> <td>          -0.6983j</td> <td>           1.6079</td> <td>          -0.4285</td>\n",
       "</tr>\n",
       "<tr>\n",
       "  <th>MA.8</th> <td>          -1.4484</td> <td>          +0.6983j</td> <td>           1.6079</td> <td>           0.4285</td>\n",
       "</tr>\n",
       "</table>"
      ],
      "text/plain": [
       "<class 'statsmodels.iolib.summary.Summary'>\n",
       "\"\"\"\n",
       "                              ARMA Model Results                              \n",
       "==============================================================================\n",
       "Dep. Variable:               norm_ret   No. Observations:                 5020\n",
       "Model:                     ARMA(0, 8)   Log Likelihood              -40307.597\n",
       "Method:                       css-mle   S.D. of innovations            742.822\n",
       "Date:                Wed, 17 Jun 2020   AIC                          80635.194\n",
       "Time:                        18:41:27   BIC                          80700.406\n",
       "Sample:                    01-10-1994   HQIC                         80658.045\n",
       "                         - 04-05-2013                                         \n",
       "==================================================================================\n",
       "                     coef    std err          z      P>|z|      [0.025      0.975]\n",
       "----------------------------------------------------------------------------------\n",
       "const            -11.9759      8.846     -1.354      0.176     -29.314       5.362\n",
       "ma.L1.norm_ret    -0.0238      0.014     -1.689      0.091      -0.051       0.004\n",
       "ma.L2.norm_ret    -0.0495      0.014     -3.513      0.000      -0.077      -0.022\n",
       "ma.L3.norm_ret    -0.0847      0.014     -5.992      0.000      -0.112      -0.057\n",
       "ma.L4.norm_ret     0.0488      0.014      3.440      0.001       0.021       0.077\n",
       "ma.L5.norm_ret    -0.0518      0.014     -3.634      0.000      -0.080      -0.024\n",
       "ma.L6.norm_ret    -0.0402      0.014     -2.786      0.005      -0.068      -0.012\n",
       "ma.L7.norm_ret     0.0083      0.014      0.586      0.558      -0.020       0.036\n",
       "ma.L8.norm_ret     0.0366      0.014      2.627      0.009       0.009       0.064\n",
       "                                    Roots                                    \n",
       "=============================================================================\n",
       "                  Real          Imaginary           Modulus         Frequency\n",
       "-----------------------------------------------------------------------------\n",
       "MA.1            1.4716           -0.4282j            1.5326           -0.0451\n",
       "MA.2            1.4716           +0.4282j            1.5326            0.0451\n",
       "MA.3            0.5944           -1.3169j            1.4448           -0.1825\n",
       "MA.4            0.5944           +1.3169j            1.4448            0.1825\n",
       "MA.5           -0.7317           -1.2737j            1.4689           -0.3330\n",
       "MA.6           -0.7317           +1.2737j            1.4689            0.3330\n",
       "MA.7           -1.4484           -0.6983j            1.6079           -0.4285\n",
       "MA.8           -1.4484           +0.6983j            1.6079            0.4285\n",
       "-----------------------------------------------------------------------------\n",
       "\"\"\""
      ]
     },
     "execution_count": 86,
     "metadata": {},
     "output_type": "execute_result"
    }
   ],
   "source": [
    "model_norm_ret_ma_8 = ARMA(df.norm_ret[1:], order = (0,8))\n",
    "results_norm_ret_ma_8 = model_norm_ret_ma_8.fit()\n",
    "results_norm_ret_ma_8.summary()"
   ]
  },
  {
   "cell_type": "code",
   "execution_count": 87,
   "metadata": {},
   "outputs": [],
   "source": [
    "#results are identical to non normalized results\n",
    "#normalizing the input data has no effect on model selection"
   ]
  },
  {
   "cell_type": "code",
   "execution_count": 88,
   "metadata": {},
   "outputs": [
    {
     "name": "stderr",
     "output_type": "stream",
     "text": [
      "/Users/ninalewandowska/opt/anaconda3/lib/python3.7/site-packages/ipykernel_launcher.py:1: SettingWithCopyWarning: \n",
      "A value is trying to be set on a copy of a slice from a DataFrame.\n",
      "Try using .loc[row_indexer,col_indexer] = value instead\n",
      "\n",
      "See the caveats in the documentation: http://pandas.pydata.org/pandas-docs/stable/user_guide/indexing.html#returning-a-view-versus-a-copy\n",
      "  \"\"\"Entry point for launching an IPython kernel.\n"
     ]
    }
   ],
   "source": [
    "df['res_norm_ret_ma_8'] = results_ret_ma_8.resid[1:]"
   ]
  },
  {
   "cell_type": "code",
   "execution_count": 89,
   "metadata": {},
   "outputs": [
    {
     "data": {
      "text/html": [
       "<div>\n",
       "<style scoped>\n",
       "    .dataframe tbody tr th:only-of-type {\n",
       "        vertical-align: middle;\n",
       "    }\n",
       "\n",
       "    .dataframe tbody tr th {\n",
       "        vertical-align: top;\n",
       "    }\n",
       "\n",
       "    .dataframe thead th {\n",
       "        text-align: right;\n",
       "    }\n",
       "</style>\n",
       "<table border=\"1\" class=\"dataframe\">\n",
       "  <thead>\n",
       "    <tr style=\"text-align: right;\">\n",
       "      <th></th>\n",
       "      <th>market_value</th>\n",
       "      <th>returns</th>\n",
       "      <th>res_ret_ma_8</th>\n",
       "      <th>norm_ret</th>\n",
       "      <th>res_norm_ret_ma_8</th>\n",
       "    </tr>\n",
       "    <tr>\n",
       "      <th>date</th>\n",
       "      <th></th>\n",
       "      <th></th>\n",
       "      <th></th>\n",
       "      <th></th>\n",
       "      <th></th>\n",
       "    </tr>\n",
       "  </thead>\n",
       "  <tbody>\n",
       "    <tr>\n",
       "      <td>1994-01-07</td>\n",
       "      <td>3445.98</td>\n",
       "      <td>NaN</td>\n",
       "      <td>NaN</td>\n",
       "      <td>NaN</td>\n",
       "      <td>NaN</td>\n",
       "    </tr>\n",
       "    <tr>\n",
       "      <td>1994-01-10</td>\n",
       "      <td>3440.58</td>\n",
       "      <td>-0.156704</td>\n",
       "      <td>NaN</td>\n",
       "      <td>100.000000</td>\n",
       "      <td>NaN</td>\n",
       "    </tr>\n",
       "    <tr>\n",
       "      <td>1994-01-11</td>\n",
       "      <td>3413.77</td>\n",
       "      <td>-0.779229</td>\n",
       "      <td>-0.802111</td>\n",
       "      <td>497.260711</td>\n",
       "      <td>-0.802111</td>\n",
       "    </tr>\n",
       "    <tr>\n",
       "      <td>1994-01-12</td>\n",
       "      <td>3372.02</td>\n",
       "      <td>-1.222988</td>\n",
       "      <td>-1.269464</td>\n",
       "      <td>780.443046</td>\n",
       "      <td>-1.269464</td>\n",
       "    </tr>\n",
       "    <tr>\n",
       "      <td>1994-01-13</td>\n",
       "      <td>3360.01</td>\n",
       "      <td>-0.356166</td>\n",
       "      <td>-0.464780</td>\n",
       "      <td>227.285567</td>\n",
       "      <td>-0.464780</td>\n",
       "    </tr>\n",
       "    <tr>\n",
       "      <td>...</td>\n",
       "      <td>...</td>\n",
       "      <td>...</td>\n",
       "      <td>...</td>\n",
       "      <td>...</td>\n",
       "      <td>...</td>\n",
       "    </tr>\n",
       "    <tr>\n",
       "      <td>2013-04-01</td>\n",
       "      <td>6411.74</td>\n",
       "      <td>0.000000</td>\n",
       "      <td>-0.028593</td>\n",
       "      <td>-0.000000</td>\n",
       "      <td>-0.028593</td>\n",
       "    </tr>\n",
       "    <tr>\n",
       "      <td>2013-04-02</td>\n",
       "      <td>6490.66</td>\n",
       "      <td>1.230867</td>\n",
       "      <td>1.269090</td>\n",
       "      <td>-785.471020</td>\n",
       "      <td>1.269090</td>\n",
       "    </tr>\n",
       "    <tr>\n",
       "      <td>2013-04-03</td>\n",
       "      <td>6420.28</td>\n",
       "      <td>-1.084327</td>\n",
       "      <td>-1.088285</td>\n",
       "      <td>691.957459</td>\n",
       "      <td>-1.088285</td>\n",
       "    </tr>\n",
       "    <tr>\n",
       "      <td>2013-04-04</td>\n",
       "      <td>6344.11</td>\n",
       "      <td>-1.186397</td>\n",
       "      <td>-1.151296</td>\n",
       "      <td>757.092562</td>\n",
       "      <td>-1.151296</td>\n",
       "    </tr>\n",
       "    <tr>\n",
       "      <td>2013-04-05</td>\n",
       "      <td>6249.77</td>\n",
       "      <td>-1.487049</td>\n",
       "      <td>-1.472254</td>\n",
       "      <td>948.951813</td>\n",
       "      <td>-1.472254</td>\n",
       "    </tr>\n",
       "  </tbody>\n",
       "</table>\n",
       "<p>5021 rows × 5 columns</p>\n",
       "</div>"
      ],
      "text/plain": [
       "            market_value   returns  res_ret_ma_8    norm_ret  \\\n",
       "date                                                           \n",
       "1994-01-07       3445.98       NaN           NaN         NaN   \n",
       "1994-01-10       3440.58 -0.156704           NaN  100.000000   \n",
       "1994-01-11       3413.77 -0.779229     -0.802111  497.260711   \n",
       "1994-01-12       3372.02 -1.222988     -1.269464  780.443046   \n",
       "1994-01-13       3360.01 -0.356166     -0.464780  227.285567   \n",
       "...                  ...       ...           ...         ...   \n",
       "2013-04-01       6411.74  0.000000     -0.028593   -0.000000   \n",
       "2013-04-02       6490.66  1.230867      1.269090 -785.471020   \n",
       "2013-04-03       6420.28 -1.084327     -1.088285  691.957459   \n",
       "2013-04-04       6344.11 -1.186397     -1.151296  757.092562   \n",
       "2013-04-05       6249.77 -1.487049     -1.472254  948.951813   \n",
       "\n",
       "            res_norm_ret_ma_8  \n",
       "date                           \n",
       "1994-01-07                NaN  \n",
       "1994-01-10                NaN  \n",
       "1994-01-11          -0.802111  \n",
       "1994-01-12          -1.269464  \n",
       "1994-01-13          -0.464780  \n",
       "...                       ...  \n",
       "2013-04-01          -0.028593  \n",
       "2013-04-02           1.269090  \n",
       "2013-04-03          -1.088285  \n",
       "2013-04-04          -1.151296  \n",
       "2013-04-05          -1.472254  \n",
       "\n",
       "[5021 rows x 5 columns]"
      ]
     },
     "execution_count": 89,
     "metadata": {},
     "output_type": "execute_result"
    }
   ],
   "source": [
    "df"
   ]
  },
  {
   "cell_type": "code",
   "execution_count": 90,
   "metadata": {},
   "outputs": [
    {
     "data": {
      "image/png": "[encoded data removed]",
      "text/plain": [
       "<Figure size 1440x360 with 1 Axes>"
      ]
     },
     "metadata": {
      "needs_background": "light"
     },
     "output_type": "display_data"
    }
   ],
   "source": [
    "df.res_norm_ret_ma_8[1:].plot(figsize = (20,5))\n",
    "plt.title(\"Residuals of Normalized Returns\", size = 24)\n",
    "plt.show()"
   ]
  },
  {
   "cell_type": "code",
   "execution_count": 92,
   "metadata": {},
   "outputs": [
    {
     "data": {
      "image/png": "[encoded data removed]",
      "text/plain": [
       "<Figure size 432x288 with 1 Axes>"
      ]
     },
     "metadata": {
      "needs_background": "light"
     },
     "output_type": "display_data"
    }
   ],
   "source": [
    "sgt.plot_acf(df.res_norm_ret_ma_8[2:], zero = False, lags = 40)\n",
    "plt.title(\"ACF of Residuals for Normalized Returns\", size=24)\n",
    "plt.show()"
   ]
  },
  {
   "cell_type": "code",
   "execution_count": null,
   "metadata": {},
   "outputs": [],
   "source": [
    "#the graph suggests that the data resembles white noise, so our model choice is supposedly correct\n",
    "#white noise means the errors don't follow a pattern"
   ]
  },
  {
   "cell_type": "markdown",
   "metadata": {},
   "source": [
    "51. Fitting an MA(1) model for Prices"
   ]
  },
  {
   "cell_type": "markdown",
   "metadata": {},
   "source": [
    "MA Models For Prices"
   ]
  },
  {
   "cell_type": "code",
   "execution_count": 93,
   "metadata": {},
   "outputs": [],
   "source": [
    "#Autoregressive (AR) models are less reliable when estimating non-stationary data\n",
    "#We will see if the same goes for MA models"
   ]
  },
  {
   "cell_type": "code",
   "execution_count": 94,
   "metadata": {},
   "outputs": [],
   "source": [
    "#AR -> PACF, MA -> ACF"
   ]
  },
  {
   "cell_type": "code",
   "execution_count": 95,
   "metadata": {},
   "outputs": [
    {
     "data": {
      "image/png": "[encoded data removed]",
      "text/plain": [
       "<Figure size 432x288 with 1 Axes>"
      ]
     },
     "metadata": {
      "needs_background": "light"
     },
     "output_type": "display_data"
    }
   ],
   "source": [
    "sgt.plot_acf(df.market_value, zero = False, lags = 40)\n",
    "plt.title(\"ACF for Prices\", size=24)\n",
    "plt.show()"
   ]
  },
  {
   "cell_type": "code",
   "execution_count": 96,
   "metadata": {},
   "outputs": [],
   "source": [
    "#every lag is significant what suggest that any MA(P+1)>Ma(P)\n",
    "#it suggest no MA model would be good estimator for prices\n",
    "#but we will try it anyway..."
   ]
  },
  {
   "cell_type": "code",
   "execution_count": 101,
   "metadata": {},
   "outputs": [
    {
     "data": {
      "text/html": [
       "<table class=\"simpletable\">\n",
       "<caption>ARMA Model Results</caption>\n",
       "<tr>\n",
       "  <th>Dep. Variable:</th>   <td>market_value</td>   <th>  No. Observations:  </th>    <td>5021</td>   \n",
       "</tr>\n",
       "<tr>\n",
       "  <th>Model:</th>            <td>ARMA(0, 1)</td>    <th>  Log Likelihood     </th> <td>-38629.000</td>\n",
       "</tr>\n",
       "<tr>\n",
       "  <th>Method:</th>             <td>css-mle</td>     <th>  S.D. of innovations</th>   <td>530.756</td> \n",
       "</tr>\n",
       "<tr>\n",
       "  <th>Date:</th>          <td>Thu, 18 Jun 2020</td> <th>  AIC                </th>  <td>77264.000</td>\n",
       "</tr>\n",
       "<tr>\n",
       "  <th>Time:</th>              <td>10:02:53</td>     <th>  BIC                </th>  <td>77283.564</td>\n",
       "</tr>\n",
       "<tr>\n",
       "  <th>Sample:</th>           <td>01-07-1994</td>    <th>  HQIC               </th>  <td>77270.856</td>\n",
       "</tr>\n",
       "<tr>\n",
       "  <th></th>                 <td>- 04-05-2013</td>   <th>                     </th>      <td> </td>    \n",
       "</tr>\n",
       "</table>\n",
       "<table class=\"simpletable\">\n",
       "<tr>\n",
       "           <td></td>             <th>coef</th>     <th>std err</th>      <th>z</th>      <th>P>|z|</th>  <th>[0.025</th>    <th>0.975]</th>  \n",
       "</tr>\n",
       "<tr>\n",
       "  <th>const</th>              <td> 5089.4929</td> <td>   14.660</td> <td>  347.180</td> <td> 0.000</td> <td> 5060.761</td> <td> 5118.225</td>\n",
       "</tr>\n",
       "<tr>\n",
       "  <th>ma.L1.market_value</th> <td>    0.9573</td> <td>    0.003</td> <td>  335.548</td> <td> 0.000</td> <td>    0.952</td> <td>    0.963</td>\n",
       "</tr>\n",
       "</table>\n",
       "<table class=\"simpletable\">\n",
       "<caption>Roots</caption>\n",
       "<tr>\n",
       "    <td></td>   <th>            Real</th>  <th>         Imaginary</th> <th>         Modulus</th>  <th>        Frequency</th>\n",
       "</tr>\n",
       "<tr>\n",
       "  <th>MA.1</th> <td>          -1.0446</td> <td>          +0.0000j</td> <td>           1.0446</td> <td>           0.5000</td>\n",
       "</tr>\n",
       "</table>"
      ],
      "text/plain": [
       "<class 'statsmodels.iolib.summary.Summary'>\n",
       "\"\"\"\n",
       "                              ARMA Model Results                              \n",
       "==============================================================================\n",
       "Dep. Variable:           market_value   No. Observations:                 5021\n",
       "Model:                     ARMA(0, 1)   Log Likelihood              -38629.000\n",
       "Method:                       css-mle   S.D. of innovations            530.756\n",
       "Date:                Thu, 18 Jun 2020   AIC                          77264.000\n",
       "Time:                        10:02:53   BIC                          77283.564\n",
       "Sample:                    01-07-1994   HQIC                         77270.856\n",
       "                         - 04-05-2013                                         \n",
       "======================================================================================\n",
       "                         coef    std err          z      P>|z|      [0.025      0.975]\n",
       "--------------------------------------------------------------------------------------\n",
       "const               5089.4929     14.660    347.180      0.000    5060.761    5118.225\n",
       "ma.L1.market_value     0.9573      0.003    335.548      0.000       0.952       0.963\n",
       "                                    Roots                                    \n",
       "=============================================================================\n",
       "                  Real          Imaginary           Modulus         Frequency\n",
       "-----------------------------------------------------------------------------\n",
       "MA.1           -1.0446           +0.0000j            1.0446            0.5000\n",
       "-----------------------------------------------------------------------------\n",
       "\"\"\""
      ]
     },
     "execution_count": 101,
     "metadata": {},
     "output_type": "execute_result"
    }
   ],
   "source": [
    "model_ma_1 = ARMA(df.market_value, order = (0,1))\n",
    "results_ma_1 = model_ma_1.fit()\n",
    "results_ma_1.summary()"
   ]
  },
  {
   "cell_type": "code",
   "execution_count": 100,
   "metadata": {},
   "outputs": [],
   "source": [
    "#constant and MA(1) coefficient is significant\n",
    "#MA(1) coefficient is close to 1, so...\n",
    "#...our model tries to keep almost the entire magnitude of the error term from the last period\n",
    "#we can interprete it like this: each time a model wants to predict a value it actually tries to maximaze on the\n",
    "#error from the last time\n",
    "#since this is a simple model, with only 1 lag, the error term contains all the information from the other lags\n",
    "#theta = coeff (in this case 0,9573)\n",
    "#therefor our model is essentialy autoregressive model which takes into account the error from two terms ago\n",
    "#x(t) = x(t-1) - epsilon(t-2) - epsilon(t)\n",
    "#hence, MA(1) model with coeff close to 1 is just an approximation of any AR(n) model, which only takes the\n",
    "#error term from n periods back"
   ]
  },
  {
   "cell_type": "code",
   "execution_count": 99,
   "metadata": {},
   "outputs": [],
   "source": [
    "#We know that MA models do not perform well for non-stationary data\n",
    "#BUT MA models are great in modelling Random Walks because they take into account our mistakes\n",
    "#WELL Moving Average aspect does that, HOWEVER to actually do a decent job at modelling a non-stationary process\n",
    "#a model should also use the previous period's values as a sort of diving board\n",
    "#so combinations of AR and MA would be best"
   ]
  },
  {
   "cell_type": "markdown",
   "metadata": {},
   "source": [
    "52. Past Values and Past Errors"
   ]
  },
  {
   "cell_type": "code",
   "execution_count": null,
   "metadata": {},
   "outputs": [],
   "source": [
    "#AR model make good prediction, but fail to adjust quickly to unexpected shocks\n",
    "# - MA aspects smooth out predictions\n",
    "#MA model (account only for the residuals) it needs a baseline to perform well\n",
    "# - so we have to use previous values to provide that\n",
    "#ARMA - past values AND past errors \n",
    "#solves the issues each one has individually\n",
    "#Auto-regressive Moving Average Model\n",
    "#ARMA(1,2) 1-lagged values, 2- lagged errors"
   ]
  },
  {
   "cell_type": "markdown",
   "metadata": {},
   "source": [
    "ARMA model estimates the actual r(t) and predicted r(t) (z daszkiem) which shows how far off our predictions were\n",
    "this enables us to calibrate expectations on the go"
   ]
  }
 ],
 "metadata": {
  "kernelspec": {
   "display_name": "Python 3",
   "language": "python",
   "name": "python3"
  },
  "language_info": {
   "codemirror_mode": {
    "name": "ipython",
    "version": 3
   },
   "file_extension": ".py",
   "mimetype": "text/x-python",
   "name": "python",
   "nbconvert_exporter": "python",
   "pygments_lexer": "ipython3",
   "version": "3.7.4"
  }
 },
 "nbformat": 4,
 "nbformat_minor": 2
}
